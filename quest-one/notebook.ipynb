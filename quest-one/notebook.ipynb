{
 "cells": [
  {
   "cell_type": "code",
   "execution_count": null,
   "metadata": {},
   "outputs": [],
   "source": [
    "# Import the necessary libraries\n",
    "\n",
    "import glob\n",
    "import time\n",
    "import duckdb\n",
    "import pandas as pd"
   ]
  },
  {
   "cell_type": "code",
   "execution_count": null,
   "metadata": {},
   "outputs": [],
   "source": [
    "# Establish a connection to duckdb\n",
    "\n",
    "conn = duckdb.connect()"
   ]
  },
  {
   "cell_type": "code",
   "execution_count": null,
   "metadata": {},
   "outputs": [],
   "source": [
    "# Read the contents of the csv file using duckdb\n",
    "\n",
    "cur_time = time.time()\n",
    "df = conn.execute(\"\"\"\n",
    "    SELECT *\n",
    "    FROM read_csv_auto(\"./data/Sales_Product_Combined.csv\", header=True)\n",
    "    \"\"\").df()\n",
    "print(f\"time: ({time.time() - cur_time})\")\n",
    "print(df)"
   ]
  },
  {
   "cell_type": "code",
   "execution_count": null,
   "metadata": {},
   "outputs": [],
   "source": [
    "# Create a view\n",
    "\n",
    "conn.register(\"df_view\", df)"
   ]
  },
  {
   "cell_type": "code",
   "execution_count": null,
   "metadata": {},
   "outputs": [],
   "source": [
    "# Check the schema of the view\n",
    "\n",
    "conn.execute(\"DESCRIBE df_view\").df()"
   ]
  },
  {
   "cell_type": "code",
   "execution_count": null,
   "metadata": {},
   "outputs": [],
   "source": [
    "# Count the total number of records\n",
    "\n",
    "conn.execute(\"SELECT count(*) FROM df_view\").df()"
   ]
  },
  {
   "cell_type": "code",
   "execution_count": null,
   "metadata": {},
   "outputs": [],
   "source": [
    "# Count the total number of null value and remove them\n",
    "\n",
    "df.isnull().sum()\n",
    "df = df.dropna(how='all')"
   ]
  },
  {
   "cell_type": "code",
   "execution_count": null,
   "metadata": {},
   "outputs": [],
   "source": [
    "# A test implementation of a where clause\n",
    "\n",
    "conn.execute(\"\"\"SELECT * FROM df WHERE \"Order ID\"='295665'\"\"\").df()"
   ]
  },
  {
   "cell_type": "code",
   "execution_count": null,
   "metadata": {},
   "outputs": [],
   "source": [
    "# Create a table from the dataframe and enforcing the appropriate schema\n",
    "\n",
    "conn.execute(\"\"\"\n",
    "             CREATE OR REPLACE TABLE sales AS\n",
    "                SELECT\n",
    "                    \"Order ID\"::INTEGER AS order_id,\n",
    "                    Product AS product,\n",
    "                    \"Quantity Ordered\"::INTEGER AS quantity,\n",
    "                    REPLACE(\"Price\", ',', '')::DECIMAL AS price,\n",
    "                    strptime(\"Order Date\", '%Y-%m-%d %H:%M:%S')::DATE as order_date,\n",
    "                    \"Purchase Address\" AS purchase_address\n",
    "                FROM df\n",
    "                WHERE\n",
    "                    TRY_CAST(\"Order ID\" AS INTEGER) NOTNULL    \n",
    "             \"\"\")"
   ]
  },
  {
   "cell_type": "code",
   "execution_count": null,
   "metadata": {},
   "outputs": [],
   "source": [
    "# Excluding records from a select statement\n",
    "\n",
    "conn.execute(\n",
    "    \"SELECT * EXCLUDE (product, order_date, purchase_address) FROM sales\").df()"
   ]
  },
  {
   "cell_type": "code",
   "execution_count": null,
   "metadata": {},
   "outputs": [],
   "source": [
    "# Minimum value implementation across selected columns\n",
    "\n",
    "conn.execute(\"\"\"\n",
    "             SELECT \n",
    "                MIN(COLUMNS(* EXCLUDE (product, order_date, purchase_address))) FROM sales\n",
    "             \"\"\").df()"
   ]
  },
  {
   "cell_type": "code",
   "execution_count": null,
   "metadata": {},
   "outputs": [],
   "source": [
    "# Creating a view from a table\n",
    "\n",
    "conn.execute(\"\"\"\n",
    "             CREATE OR REPLACE VIEW aggregated_sales AS\n",
    "             SELECT \n",
    "                order_id,\n",
    "                COUNT (1) AS nb_orders,\n",
    "                MONTH(order_date) AS month,\n",
    "                STR_SPLIT(purchase_address, ',')[2] AS city,\n",
    "                SUM(quantity * price) AS revenue\n",
    "            FROM sales\n",
    "            GROUP BY ALL\n",
    "             \"\"\")"
   ]
  },
  {
   "cell_type": "code",
   "execution_count": null,
   "metadata": {},
   "outputs": [],
   "source": [
    "conn.execute(\"FROM aggregated_sales\").df()"
   ]
  },
  {
   "cell_type": "code",
   "execution_count": null,
   "metadata": {},
   "outputs": [],
   "source": [
    "# Total revenue across the cities\n",
    "\n",
    "conn.execute(\"\"\"\n",
    "             SELECT\n",
    "                city,\n",
    "                SUM(revenue) AS total\n",
    "            FROM aggregated_sales\n",
    "            GROUP BY city\n",
    "            ORDER BY total DESC\n",
    "             \"\"\").df()"
   ]
  },
  {
   "cell_type": "code",
   "execution_count": null,
   "metadata": {},
   "outputs": [],
   "source": [
    "# Saving as a parquet file\n",
    "\n",
    "conn.execute(\n",
    "    \"COPY (FROM aggregated_sales) TO 'aggregated_sales.parquet' (FORMAT 'parquet')\")"
   ]
  },
  {
   "cell_type": "code",
   "execution_count": null,
   "metadata": {},
   "outputs": [],
   "source": [
    "# Reading a parquet file\n",
    "\n",
    "conn.execute(\"FROM aggregated_sales.parquet\").df()"
   ]
  },
  {
   "cell_type": "markdown",
   "metadata": {},
   "source": []
  }
 ],
 "metadata": {
  "kernelspec": {
   "display_name": "duckdb-env",
   "language": "python",
   "name": "python3"
  },
  "language_info": {
   "codemirror_mode": {
    "name": "ipython",
    "version": 3
   },
   "file_extension": ".py",
   "mimetype": "text/x-python",
   "name": "python",
   "nbconvert_exporter": "python",
   "pygments_lexer": "ipython3",
   "version": "3.9.13"
  }
 },
 "nbformat": 4,
 "nbformat_minor": 2
}
